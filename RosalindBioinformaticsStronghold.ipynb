{
 "cells": [
  {
   "cell_type": "code",
   "execution_count": 7,
   "metadata": {},
   "outputs": [
    {
     "data": {
      "text/html": [
       "<h1><a href=\"http://rosalind.info/problems/list-view/\">Rosalind Bioinformatics Stronghold</a></h1>"
      ],
      "text/plain": [
       "<IPython.core.display.HTML object>"
      ]
     },
     "metadata": {},
     "output_type": "display_data"
    }
   ],
   "source": [
    "%%html\n",
    "<h1><a href=\"http://rosalind.info/problems/list-view/\">Rosalind Bioinformatics Stronghold</a></h1>\n"
   ]
  },
  {
   "cell_type": "code",
   "execution_count": 2,
   "metadata": {},
   "outputs": [
    {
     "data": {
      "text/html": [
       "<a href=\"http://rosalind.info/problems/dna/\">Problem 1: Counting DNA Nucleotides</a>"
      ],
      "text/plain": [
       "<IPython.core.display.HTML object>"
      ]
     },
     "metadata": {},
     "output_type": "display_data"
    }
   ],
   "source": [
    "%%html\n",
    "<a href=\"http://rosalind.info/problems/dna/\">Problem 1: Counting DNA Nucleotides</a>"
   ]
  },
  {
   "cell_type": "code",
   "execution_count": 40,
   "metadata": {
    "collapsed": true
   },
   "outputs": [],
   "source": [
    "#Problem 1\n",
    "def dna_base_counter(s):\n",
    "    alphabet = [\"A\", \"C\", \"G\", \"T\"]\n",
    "    result = []\n",
    "    for letter in alfabet:\n",
    "        result.append(s.count(letter))\n",
    "    return result"
   ]
  },
  {
   "cell_type": "code",
   "execution_count": 41,
   "metadata": {},
   "outputs": [
    {
     "data": {
      "text/plain": [
       "[20, 12, 17, 21]"
      ]
     },
     "execution_count": 41,
     "metadata": {},
     "output_type": "execute_result"
    }
   ],
   "source": [
    "dna_base_counter(\"AGCTTTTCATTCTGACTGCAACGGGCAATATGTCTCTGTGTGGATTAAAAAAAGAGTGTCTGATAGCAGC\")"
   ]
  },
  {
   "cell_type": "code",
   "execution_count": 3,
   "metadata": {},
   "outputs": [
    {
     "data": {
      "text/html": [
       "<a href=\"http://rosalind.info/problems/rna/\">Problem 2: Transcribing DNA into RNA</a>"
      ],
      "text/plain": [
       "<IPython.core.display.HTML object>"
      ]
     },
     "metadata": {},
     "output_type": "display_data"
    }
   ],
   "source": [
    "%%html\n",
    "<a href=\"http://rosalind.info/problems/rna/\">Problem 2: Transcribing DNA into RNA</a>"
   ]
  },
  {
   "cell_type": "code",
   "execution_count": null,
   "metadata": {
    "collapsed": true
   },
   "outputs": [],
   "source": [
    "#Problem 2\n",
    "def DNA_to_RNA(t):\n",
    "    if len(t) < 10000:\n",
    "        u = t.replace(\"T\", \"U\")\n",
    "    return u "
   ]
  },
  {
   "cell_type": "code",
   "execution_count": 4,
   "metadata": {},
   "outputs": [
    {
     "data": {
      "text/html": [
       "<a href=\"http://rosalind.info/problems/revc/\">Problem 3: Complementing a Strand of DNA</a>"
      ],
      "text/plain": [
       "<IPython.core.display.HTML object>"
      ]
     },
     "metadata": {},
     "output_type": "display_data"
    }
   ],
   "source": [
    "%%html\n",
    "<a href=\"http://rosalind.info/problems/revc/\">Problem 3: Complementing a Strand of DNA</a>"
   ]
  },
  {
   "cell_type": "code",
   "execution_count": 5,
   "metadata": {
    "collapsed": true
   },
   "outputs": [],
   "source": [
    "#Problem 3\n",
    "def get_complementary(s):\n",
    "    change_map = { \"T\": \"A\", \"A\": \"T\", \"G\": \"C\", \"C\": \"G\" }\n",
    "    z = s[::-1] \n",
    "    z = list(z)\n",
    "    z = [change_map.get(letter) for letter in z] \n",
    "    return \"\".join(z)"
   ]
  },
  {
   "cell_type": "code",
   "execution_count": null,
   "metadata": {
    "collapsed": true
   },
   "outputs": [],
   "source": [
    "get_complementary(\"AAAACCCGGT\")"
   ]
  },
  {
   "cell_type": "code",
   "execution_count": 8,
   "metadata": {},
   "outputs": [
    {
     "data": {
      "text/html": [
       "<a href=\"http://rosalind.info/problems/gc/\">Problem 5: Computing GC Content</a>"
      ],
      "text/plain": [
       "<IPython.core.display.HTML object>"
      ]
     },
     "metadata": {},
     "output_type": "display_data"
    }
   ],
   "source": [
    "%%html\n",
    "<a href=\"http://rosalind.info/problems/gc/\">Problem 5: Computing GC Content</a>"
   ]
  },
  {
   "cell_type": "code",
   "execution_count": 6,
   "metadata": {
    "collapsed": true
   },
   "outputs": [],
   "source": [
    "#Problem 5\n",
    "def get_gc_dict(f):\n",
    "    parser = SeqIO.parse(f, \"fasta\")\n",
    "    master_dict = {}\n",
    "    for record in parser:\n",
    "        a = record.seq.count(\"A\")\n",
    "        t = record.seq.count(\"T\")\n",
    "        c = record.seq.count(\"C\")\n",
    "        g = record.seq.count(\"G\")\n",
    "        gc_content = ((g+c)/len(record.seq)) * 100\n",
    "        master_dict.update({record.id : gc_content})\n",
    "    return max(master_dict.items(), key=lambda k: k[1])"
   ]
  },
  {
   "cell_type": "code",
   "execution_count": 9,
   "metadata": {},
   "outputs": [
    {
     "data": {
      "text/html": [
       "<a href=\"http://rosalind.info/problems/hamm/\">Problem 6: Counting Point Mutations</a>"
      ],
      "text/plain": [
       "<IPython.core.display.HTML object>"
      ]
     },
     "metadata": {},
     "output_type": "display_data"
    }
   ],
   "source": [
    "%%html\n",
    "<a href=\"http://rosalind.info/problems/hamm/\">Problem 6: Counting Point Mutations</a>"
   ]
  },
  {
   "cell_type": "code",
   "execution_count": null,
   "metadata": {
    "collapsed": true
   },
   "outputs": [],
   "source": [
    "#Problem 6\n",
    "def hamming_distance(str1, str2):\n",
    "    dist = 0\n",
    "    for ch1, ch2 in zip(str1, str2):\n",
    "        if ch1 != ch2:\n",
    "            dist += 1\n",
    "    return dist"
   ]
  },
  {
   "cell_type": "code",
   "execution_count": 11,
   "metadata": {},
   "outputs": [
    {
     "data": {
      "text/html": [
       "<a href=\"http://rosalind.info/problems/iprb/\">Problem 7: Mendel&apos;s First Law</a>"
      ],
      "text/plain": [
       "<IPython.core.display.HTML object>"
      ]
     },
     "metadata": {},
     "output_type": "display_data"
    }
   ],
   "source": [
    "%%html\n",
    "<a href=\"http://rosalind.info/problems/iprb/\">Problem 7: Mendel&apos;s First Law</a>"
   ]
  },
  {
   "cell_type": "code",
   "execution_count": 12,
   "metadata": {
    "collapsed": true
   },
   "outputs": [],
   "source": [
    "#Problem 7\n",
    "from scipy.special import comb\n",
    "\n",
    "def calculate_prob_dominant(k, m, n):\n",
    "    totalPop = k + m + n \n",
    "    totalCombos = comb(totalPop, 2)\n",
    "    validCombos = comb(k, 2) + k*m + k*n + .5*m*n + .75*comb(m, 2)\n",
    "    probability = validCombos/totalCombos\n",
    "    return probability"
   ]
  },
  {
   "cell_type": "code",
   "execution_count": 13,
   "metadata": {},
   "outputs": [
    {
     "data": {
      "text/plain": [
       "0.78333333333333333"
      ]
     },
     "execution_count": 13,
     "metadata": {},
     "output_type": "execute_result"
    }
   ],
   "source": [
    "calculate_prob_dominant(2,2,2)"
   ]
  }
 ],
 "metadata": {
  "kernelspec": {
   "display_name": "Python 3",
   "language": "python",
   "name": "python3"
  },
  "language_info": {
   "codemirror_mode": {
    "name": "ipython",
    "version": 3
   },
   "file_extension": ".py",
   "mimetype": "text/x-python",
   "name": "python",
   "nbconvert_exporter": "python",
   "pygments_lexer": "ipython3",
   "version": "3.6.0"
  }
 },
 "nbformat": 4,
 "nbformat_minor": 2
}
